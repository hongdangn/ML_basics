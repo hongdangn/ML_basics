{
 "cells": [
  {
   "cell_type": "code",
   "execution_count": 1,
   "metadata": {},
   "outputs": [],
   "source": [
    "import numpy as np\n",
    "import pandas as pd"
   ]
  },
  {
   "cell_type": "code",
   "execution_count": 2,
   "metadata": {},
   "outputs": [
    {
     "name": "stdout",
     "output_type": "stream",
     "text": [
      "['B']\n",
      "[[0.29175335 0.70824665]]\n"
     ]
    }
   ],
   "source": [
    "from sklearn.naive_bayes import MultinomialNB\n",
    "\n",
    "# train data\n",
    "d1 = [2, 1, 1, 0, 0, 0, 0, 0, 0]\n",
    "d2 = [1, 1, 0, 1, 1, 0, 0, 0, 0]\n",
    "d3 = [0, 1, 0, 0, 1, 1, 0, 0, 0]\n",
    "d4 = [0, 1, 0, 0, 0, 0, 1, 1, 1]\n",
    "\n",
    "train_data = np.array([d1, d2, d3, d4])\n",
    "labels = np.array(['B', 'B', 'B', 'N'])\n",
    "\n",
    "# test data\n",
    "d5 = np.array([[2, 0, 0, 1, 0, 0, 0, 1, 0]])\n",
    "d6 = np.array([[0, 1, 0, 0, 0, 0, 0, 1, 1]])\n",
    "\n",
    "model = MultinomialNB().fit(train_data, labels)\n",
    "print(model.predict(d5))\n",
    "print(model.predict_proba(d6))"
   ]
  },
  {
   "cell_type": "markdown",
   "metadata": {},
   "source": [
    "# Spam Filtering"
   ]
  },
  {
   "cell_type": "code",
   "execution_count": 19,
   "metadata": {},
   "outputs": [
    {
     "name": "stdout",
     "output_type": "stream",
     "text": [
      "The accuracy is: 97.3076923076923%\n"
     ]
    }
   ],
   "source": [
    "# spam filtering\n",
    "num_words = 2500\n",
    "def read_data(path, data_path, labels_path):\n",
    "    with open(path + labels_path, 'r') as file:\n",
    "        labels = file.read().splitlines()\n",
    "\n",
    "    with open(path + data_path, 'r') as file:\n",
    "        content = file.read().splitlines()\n",
    "\n",
    "    count_emails = int(content[len(content) - 1].split()[0])\n",
    "    data = [np.random.randint(0, 1, num_words) for i in range(count_emails)]\n",
    "\n",
    "    for line in content:\n",
    "        id, word_th, exists = line.split()\n",
    "        data[int(id) - 1][int(word_th) - 1] = int(exists)\n",
    "    \n",
    "    return (np.array(data), np.array(labels))\n",
    "\n",
    "path = 'ex6DataPrepared/'\n",
    "train_path = 'train-features-50.txt'\n",
    "test_path = 'test-features.txt'\n",
    "test_labels = 'test-labels.txt'\n",
    "train_labels = 'train-labels-50.txt'\n",
    "\n",
    "train_data, train_labels = read_data(path, train_path, train_labels)\n",
    "test_data, test_labels = read_data(path, test_path, test_labels)\n",
    "train_labels[0] = '0'\n",
    "\n",
    "classifier = MultinomialNB().fit(train_data, train_labels)\n",
    "test_pred = classifier.predict(test_data)\n",
    "\n",
    "print(\"The accuracy is: {}%\".format(np.sum(np.equal(test_labels, test_pred))/len(test_labels) * 100))"
   ]
  }
 ],
 "metadata": {
  "kernelspec": {
   "display_name": "Python 3",
   "language": "python",
   "name": "python3"
  },
  "language_info": {
   "codemirror_mode": {
    "name": "ipython",
    "version": 3
   },
   "file_extension": ".py",
   "mimetype": "text/x-python",
   "name": "python",
   "nbconvert_exporter": "python",
   "pygments_lexer": "ipython3",
   "version": "3.10.11"
  }
 },
 "nbformat": 4,
 "nbformat_minor": 2
}
