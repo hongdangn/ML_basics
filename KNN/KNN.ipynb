{
 "cells": [
  {
   "cell_type": "code",
   "execution_count": 1,
   "id": "6affdf13",
   "metadata": {},
   "outputs": [],
   "source": [
    "import numpy as np\n",
    "import matplotlib.pyplot as plt\n",
    "from sklearn import datasets"
   ]
  },
  {
   "cell_type": "code",
   "execution_count": 14,
   "id": "0904021c",
   "metadata": {},
   "outputs": [
    {
     "name": "stdout",
     "output_type": "stream",
     "text": [
      "[[5.1 3.5 1.4 0.2]\n",
      " [4.9 3.  1.4 0.2]\n",
      " [4.7 3.2 1.3 0.2]\n",
      " [4.6 3.1 1.5 0.2]\n",
      " [5.  3.6 1.4 0.2]]\n",
      "-----------------------\n",
      "[0 0 0 0 0 0 0 0 0 0 0 0 0 0 0 0 0 0 0 0 0 0 0 0 0 0 0 0 0 0 0 0 0 0 0 0 0\n",
      " 0 0 0 0 0 0 0 0 0 0 0 0 0 1 1 1 1 1 1 1 1 1 1 1 1 1 1 1 1 1 1 1 1 1 1 1 1\n",
      " 1 1 1 1 1 1 1 1 1 1 1 1 1 1 1 1 1 1 1 1 1 1 1 1 1 1 2 2 2 2 2 2 2 2 2 2 2\n",
      " 2 2 2 2 2 2 2 2 2 2 2 2 2 2 2 2 2 2 2 2 2 2 2 2 2 2 2 2 2 2 2 2 2 2 2 2 2\n",
      " 2 2]\n"
     ]
    }
   ],
   "source": [
    "iris = datasets.load_iris()\n",
    "iris_x = iris.data\n",
    "iris_y = iris.target\n",
    "\n",
    "print(iris_x[:5])\n",
    "print(\"-----------------------\")\n",
    "print(iris_y)"
   ]
  },
  {
   "cell_type": "code",
   "execution_count": 20,
   "id": "baac1828",
   "metadata": {},
   "outputs": [],
   "source": [
    "from sklearn.model_selection import train_test_split\n",
    "x_train, x_test, y_train, y_test = train_test_split(iris_x, iris_y, random_state = 42, test_size = 50)"
   ]
  },
  {
   "cell_type": "markdown",
   "id": "320a72eb",
   "metadata": {},
   "source": [
    "   ## KNN with scikit-learn"
   ]
  },
  {
   "cell_type": "code",
   "execution_count": 4,
   "id": "50e2cdb1",
   "metadata": {},
   "outputs": [
    {
     "data": {
      "text/plain": [
       "1.0"
      ]
     },
     "execution_count": 4,
     "metadata": {},
     "output_type": "execute_result"
    }
   ],
   "source": [
    "from sklearn.neighbors import KNeighborsClassifier\n",
    "knn = KNeighborsClassifier(n_neighbors = 15, p = 2).fit(x_train, y_train)\n",
    "y_pred = knn.predict(x_test)\n",
    "\n",
    "compare_list = np.equal(y_pred, y_test)\n",
    "accuracy = np.sum(compare_list) * 1./len(y_test)\n",
    "accuracy"
   ]
  },
  {
   "cell_type": "markdown",
   "id": "d5762359",
   "metadata": {},
   "source": [
    "## KNN"
   ]
  },
  {
   "cell_type": "code",
   "execution_count": 15,
   "id": "dadb764f",
   "metadata": {},
   "outputs": [],
   "source": [
    "class KNeighborsClassifier():\n",
    "    def __init__(self, n_neighbors, p):\n",
    "        self.n_neighbors = n_neighbors # number of neighbors of each instance\n",
    "        self.p = p # L-p norm\n",
    "        \n",
    "    def compute_similarity(self, instance, data):\n",
    "        return np.sqrt(np.sum((instance - data)**2))\n",
    "    \n",
    "    def select_neighbors_for(self, instance):\n",
    "        neighbors, tmp = [], None\n",
    "        similarities = []\n",
    "        for i in range(len(x_train)):\n",
    "            similarity = self.compute_similarity(instance, x_train[i])\n",
    "            similarities.append((y_train[i], similarity))\n",
    "        for i in range(len(similarities)):\n",
    "            for j in range(i, len(similarities)):\n",
    "                if similarities[i][1] > similarities[j][1]:\n",
    "                    tmp = similarities[i]\n",
    "                    similarities[i] = similarities[j]\n",
    "                    similarities[j] = tmp\n",
    "        for i in range(self.n_neighbors):\n",
    "            neighbors.append(similarities[i][0])\n",
    "        return neighbors\n",
    "    \n",
    "    def assign_label_for(self, instance):\n",
    "        neighbors = self.select_neighbors_for(instance)\n",
    "        labels = list(set(neighbors))\n",
    "        max_label, ans_label = 0, 0\n",
    "        for label in labels:\n",
    "            count_label = neighbors.count(label)\n",
    "            if count_label > max_label:\n",
    "                max_label = count_label\n",
    "                ans_label = label\n",
    "        return ans_label\n",
    "    \n",
    "    def predict(self, data_test):\n",
    "        y_pred = []\n",
    "        for instance in data_test:\n",
    "            label = self.assign_label_for(instance)\n",
    "            y_pred.append(label)\n",
    "        return y_pred"
   ]
  },
  {
   "cell_type": "code",
   "execution_count": 21,
   "id": "85ed9157",
   "metadata": {},
   "outputs": [
    {
     "data": {
      "text/plain": [
       "1.0"
      ]
     },
     "execution_count": 21,
     "metadata": {},
     "output_type": "execute_result"
    }
   ],
   "source": [
    "knn = KNeighborsClassifier(n_neighbors = 15, p = 2)\n",
    "y_predict = knn.predict(x_test)\n",
    "compare = np.equal(y_predict, y_test)\n",
    "np.sum(compare)* 1./len(y_test)"
   ]
  }
 ],
 "metadata": {
  "kernelspec": {
   "display_name": "Python 3 (ipykernel)",
   "language": "python",
   "name": "python3"
  },
  "language_info": {
   "codemirror_mode": {
    "name": "ipython",
    "version": 3
   },
   "file_extension": ".py",
   "mimetype": "text/x-python",
   "name": "python",
   "nbconvert_exporter": "python",
   "pygments_lexer": "ipython3",
   "version": "3.11.4"
  }
 },
 "nbformat": 4,
 "nbformat_minor": 5
}
