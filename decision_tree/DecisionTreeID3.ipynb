{
 "cells": [
  {
   "cell_type": "code",
   "execution_count": 1,
   "id": "9b66e3d9",
   "metadata": {},
   "outputs": [],
   "source": [
    "import numpy as np\n",
    "import pandas as pd"
   ]
  },
  {
   "cell_type": "code",
   "execution_count": 2,
   "id": "f54098e4",
   "metadata": {},
   "outputs": [],
   "source": [
    "df = pd.read_csv(\"weather.csv\").drop(\"id\", axis = 1)\n",
    "x = df.iloc[:, :-1].values\n",
    "y = df.iloc[:, -1].values"
   ]
  },
  {
   "cell_type": "code",
   "execution_count": 3,
   "id": "739d165e",
   "metadata": {},
   "outputs": [
    {
     "data": {
      "text/plain": [
       "{'outlook': ['rainy', 'sunny', 'overcast'],\n",
       " 'temperature': ['cool', 'mild', 'hot'],\n",
       " 'humidity': ['normal', 'high'],\n",
       " 'wind': ['weak', 'strong']}"
      ]
     },
     "execution_count": 3,
     "metadata": {},
     "output_type": "execute_result"
    }
   ],
   "source": [
    "attributes_and_values = {}\n",
    "for column in df.columns.values[:-1]:\n",
    "    attributes_and_values[column] = list(set(df[column].values))\n",
    "all_class = [\"yes\", \"no\"]\n",
    "attributes_and_values"
   ]
  },
  {
   "cell_type": "code",
   "execution_count": 36,
   "id": "848e7c14",
   "metadata": {},
   "outputs": [],
   "source": [
    "def entropy(ids):\n",
    "    entropy = 0\n",
    "    all_target = [y[id] for id in ids]\n",
    "    for item in all_class:\n",
    "        item_count = all_target.count(item)\n",
    "        if item_count != 0:\n",
    "            prob = item_count *1./len(all_target)\n",
    "            entropy -= prob * np.log(prob)\n",
    "    return entropy\n",
    "\n",
    "def attribute_entropy(ids, attribute):\n",
    "    attribute_entropy = 0\n",
    "    values_and_ids = []\n",
    "    for id in ids:\n",
    "        values = list(df.iloc[id: id + 1][attribute].values)\n",
    "        values_and_ids.append((id, values[0]))\n",
    "    for value in attributes_and_values[attribute]:\n",
    "        all_ids = []\n",
    "        for id in range(len(values_and_ids)):\n",
    "            if values_and_ids[id][1] == value:\n",
    "                all_ids.append(values_and_ids[id][0])\n",
    "        prob = len(all_ids) * 1./len(ids)\n",
    "        attribute_entropy += prob * entropy(all_ids)\n",
    "    return attribute_entropy\n",
    "\n",
    "def most_suitable_attribute(ids):\n",
    "    IGs = [] # list of information gain of all attributes \n",
    "    information_gain, attribute_selected = -1000, \"\"\n",
    "    for attribute in attributes_and_values:\n",
    "        new_information_gain = entropy(ids) - attribute_entropy(ids, attribute)\n",
    "        if new_information_gain > information_gain:\n",
    "            information_gain = new_information_gain\n",
    "            attribute_selected = attribute\n",
    "    return attribute_selected\n",
    "\n",
    "def build_tree(ids):\n",
    "    if entropy(ids) == 0:\n",
    "        return y[ids[0]]\n",
    "    else:\n",
    "        node_attribute = most_suitable_attribute(ids)\n",
    "        tree = {}\n",
    "        tree[node_attribute] = {}\n",
    "        for value in attributes_and_values[node_attribute]:\n",
    "            all_ids = []\n",
    "            for id in ids:\n",
    "                if df.iloc[id: id + 1][node_attribute].values[0] == value:\n",
    "                    all_ids.append(id)\n",
    "            if len(all_ids):\n",
    "                if entropy(all_ids) == 0:\n",
    "                    tree[node_attribute][value] = y[all_ids[0]]\n",
    "                else:\n",
    "                    tree[node_attribute][value] = build_tree(all_ids)\n",
    "        return tree"
   ]
  },
  {
   "cell_type": "code",
   "execution_count": 37,
   "id": "6a2bb415",
   "metadata": {},
   "outputs": [
    {
     "data": {
      "text/plain": [
       "{'outlook': {'rainy': {'wind': {'weak': 'yes', 'strong': 'no'}},\n",
       "  'sunny': {'humidity': {'normal': 'yes', 'high': 'no'}},\n",
       "  'overcast': 'yes'}}"
      ]
     },
     "execution_count": 37,
     "metadata": {},
     "output_type": "execute_result"
    }
   ],
   "source": [
    "build_tree(df.index)"
   ]
  }
 ],
 "metadata": {
  "kernelspec": {
   "display_name": "Python 3 (ipykernel)",
   "language": "python",
   "name": "python3"
  },
  "language_info": {
   "codemirror_mode": {
    "name": "ipython",
    "version": 3
   },
   "file_extension": ".py",
   "mimetype": "text/x-python",
   "name": "python",
   "nbconvert_exporter": "python",
   "pygments_lexer": "ipython3",
   "version": "3.11.4"
  }
 },
 "nbformat": 4,
 "nbformat_minor": 5
}
