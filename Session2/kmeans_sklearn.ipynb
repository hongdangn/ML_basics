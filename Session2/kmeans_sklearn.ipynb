{
 "cells": [
  {
   "cell_type": "markdown",
   "id": "5ecb2ca1",
   "metadata": {},
   "source": [
    "## 1. Data"
   ]
  },
  {
   "cell_type": "code",
   "execution_count": 4,
   "id": "6bafc5ca",
   "metadata": {},
   "outputs": [],
   "source": [
    "import numpy as np"
   ]
  },
  {
   "cell_type": "code",
   "execution_count": 5,
   "id": "e3f027c2",
   "metadata": {},
   "outputs": [],
   "source": [
    "def load_data(path = \"C:/Users/HH/OneDrive - Hanoi University of Science and Technology/ML basics/Session1/20news-bydate/\"):\n",
    "    \n",
    "    with open(path + \"data_tf_idf.txt\") as file:\n",
    "        lines = file.read().splitlines()\n",
    "    \n",
    "    # get the number of words exist\n",
    "    with open(path + \"words_idf.txt\") as file:\n",
    "        vocab_size = len(file.read().splitlines())\n",
    "        \n",
    "    data, labels = [], []\n",
    "    for line in lines:\n",
    "        r_d = [0.0 for i in range(vocab_size)]\n",
    "        content = line.split(\"<fff>\")\n",
    "        \n",
    "        # add label\n",
    "        label = int(content[0])\n",
    "        labels.append(label)\n",
    "        \n",
    "        # get data (index in r_d and its tf-idf value) from each line\n",
    "        indexes_and_tfidfs = content[2].split()\n",
    "        for index_and_tfidf in indexes_and_tfidfs:\n",
    "            index = int(index_and_tfidf.split(':')[0])\n",
    "            tfidf = float(index_and_tfidf.split(':')[1])\n",
    "            r_d[index] = tfidf\n",
    "        data.append(np.array(r_d))\n",
    "    return data, np.array(labels)\n",
    "            "
   ]
  },
  {
   "cell_type": "code",
   "execution_count": 8,
   "id": "1f0f0b8c",
   "metadata": {},
   "outputs": [
    {
     "data": {
      "text/plain": [
       "<2x14231 sparse matrix of type '<class 'numpy.float64'>'\n",
       "\twith 1451 stored elements in Compressed Sparse Row format>"
      ]
     },
     "execution_count": 8,
     "metadata": {},
     "output_type": "execute_result"
    }
   ],
   "source": [
    "X, y = load_data()\n",
    "\n",
    "# split data into train and test data\n",
    "from sklearn.model_selection import train_test_split\n",
    "X_train, X_test, y_train, y_test = train_test_split(X, y, random_state = 42)\n",
    "\n",
    "# Use csr_matrix to create a sparse matrix with efficient row slicing\n",
    "# Improve time to computing\n",
    "from scipy.sparse import csr_matrix\n",
    "X = csr_matrix(X)\n",
    "X[:2]"
   ]
  },
  {
   "cell_type": "markdown",
   "id": "c09c5ea8",
   "metadata": {},
   "source": [
    "## 2. Accuracy"
   ]
  },
  {
   "cell_type": "code",
   "execution_count": 9,
   "id": "064a904f",
   "metadata": {},
   "outputs": [],
   "source": [
    "# Loss function\n",
    "def compute_accuracy(y_predicted, y_expected):\n",
    "    matches = np.equal(y_predicted, y_expected)\n",
    "    accuracy = np.sum(matches.astype(float))/len(y_predicted)\n",
    "    return accuracy"
   ]
  },
  {
   "cell_type": "markdown",
   "id": "d51560c8",
   "metadata": {},
   "source": [
    "## 3. Kmeans"
   ]
  },
  {
   "cell_type": "code",
   "execution_count": 11,
   "id": "1d15920a",
   "metadata": {},
   "outputs": [
    {
     "data": {
      "text/plain": [
       "array([6, 6, 5, ..., 6, 6, 5])"
      ]
     },
     "execution_count": 11,
     "metadata": {},
     "output_type": "execute_result"
    }
   ],
   "source": [
    "from sklearn.cluster import KMeans\n",
    "model = KMeans(random_state = 42, tol = 1e-3, n_init = 5)\n",
    "model.fit(X_train)\n",
    "y_predicted = model.predict(X_test)\n",
    "y_predicted"
   ]
  },
  {
   "cell_type": "code",
   "execution_count": 12,
   "id": "71c87e54",
   "metadata": {},
   "outputs": [
    {
     "data": {
      "text/plain": [
       "0.056451612903225805"
      ]
     },
     "execution_count": 12,
     "metadata": {},
     "output_type": "execute_result"
    }
   ],
   "source": [
    "accuracy_kmeans = compute_accuracy(y_predicted, y_test)\n",
    "accuracy_kmeans"
   ]
  }
 ],
 "metadata": {
  "kernelspec": {
   "display_name": "Python 3 (ipykernel)",
   "language": "python",
   "name": "python3"
  },
  "language_info": {
   "codemirror_mode": {
    "name": "ipython",
    "version": 3
   },
   "file_extension": ".py",
   "mimetype": "text/x-python",
   "name": "python",
   "nbconvert_exporter": "python",
   "pygments_lexer": "ipython3",
   "version": "3.11.4"
  }
 },
 "nbformat": 4,
 "nbformat_minor": 5
}
