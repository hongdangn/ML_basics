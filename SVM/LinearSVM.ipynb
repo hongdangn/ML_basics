{
 "cells": [
  {
   "cell_type": "code",
   "execution_count": 1,
   "id": "efd7c3cf",
   "metadata": {},
   "outputs": [],
   "source": [
    "import numpy as np\n",
    "import pandas as pd\n",
    "import matplotlib.pyplot as plt"
   ]
  },
  {
   "cell_type": "code",
   "execution_count": 2,
   "id": "4015898c",
   "metadata": {},
   "outputs": [
    {
     "data": {
      "text/html": [
       "<div>\n",
       "<style scoped>\n",
       "    .dataframe tbody tr th:only-of-type {\n",
       "        vertical-align: middle;\n",
       "    }\n",
       "\n",
       "    .dataframe tbody tr th {\n",
       "        vertical-align: top;\n",
       "    }\n",
       "\n",
       "    .dataframe thead th {\n",
       "        text-align: right;\n",
       "    }\n",
       "</style>\n",
       "<table border=\"1\" class=\"dataframe\">\n",
       "  <thead>\n",
       "    <tr style=\"text-align: right;\">\n",
       "      <th></th>\n",
       "      <th>User ID</th>\n",
       "      <th>Gender</th>\n",
       "      <th>Age</th>\n",
       "      <th>EstimatedSalary</th>\n",
       "      <th>Purchased</th>\n",
       "    </tr>\n",
       "  </thead>\n",
       "  <tbody>\n",
       "    <tr>\n",
       "      <th>0</th>\n",
       "      <td>15624510</td>\n",
       "      <td>Male</td>\n",
       "      <td>19</td>\n",
       "      <td>19000</td>\n",
       "      <td>0</td>\n",
       "    </tr>\n",
       "    <tr>\n",
       "      <th>1</th>\n",
       "      <td>15810944</td>\n",
       "      <td>Male</td>\n",
       "      <td>35</td>\n",
       "      <td>20000</td>\n",
       "      <td>0</td>\n",
       "    </tr>\n",
       "    <tr>\n",
       "      <th>2</th>\n",
       "      <td>15668575</td>\n",
       "      <td>Female</td>\n",
       "      <td>26</td>\n",
       "      <td>43000</td>\n",
       "      <td>0</td>\n",
       "    </tr>\n",
       "    <tr>\n",
       "      <th>3</th>\n",
       "      <td>15603246</td>\n",
       "      <td>Female</td>\n",
       "      <td>27</td>\n",
       "      <td>57000</td>\n",
       "      <td>0</td>\n",
       "    </tr>\n",
       "    <tr>\n",
       "      <th>4</th>\n",
       "      <td>15804002</td>\n",
       "      <td>Male</td>\n",
       "      <td>19</td>\n",
       "      <td>76000</td>\n",
       "      <td>0</td>\n",
       "    </tr>\n",
       "  </tbody>\n",
       "</table>\n",
       "</div>"
      ],
      "text/plain": [
       "    User ID  Gender  Age  EstimatedSalary  Purchased\n",
       "0  15624510    Male   19            19000          0\n",
       "1  15810944    Male   35            20000          0\n",
       "2  15668575  Female   26            43000          0\n",
       "3  15603246  Female   27            57000          0\n",
       "4  15804002    Male   19            76000          0"
      ]
     },
     "execution_count": 2,
     "metadata": {},
     "output_type": "execute_result"
    }
   ],
   "source": [
    "data = pd.read_csv(\"Social_Network_Ads.csv\")\n",
    "data.head()"
   ]
  },
  {
   "cell_type": "markdown",
   "id": "49ef3748",
   "metadata": {},
   "source": [
    "## Data Pre - processing"
   ]
  },
  {
   "cell_type": "code",
   "execution_count": 3,
   "id": "19abce13",
   "metadata": {},
   "outputs": [],
   "source": [
    "# split data into train set and test set\n",
    "\n",
    "X = data.iloc[:, 1:-1].values\n",
    "y = data.iloc[:, -1].values\n",
    "\n",
    "from sklearn.preprocessing import LabelEncoder\n",
    "le = LabelEncoder()\n",
    "X[:, 0] = le.fit_transform(X[:, 0])\n",
    "\n",
    "from sklearn.preprocessing import MinMaxScaler\n",
    "min_max = MinMaxScaler()\n",
    "X = min_max.fit_transform(X)\n",
    "\n",
    "from sklearn.model_selection import train_test_split\n",
    "X_train, X_test, y_train, y_test = train_test_split(X, y, random_state = 42, test_size = 0.2)"
   ]
  },
  {
   "cell_type": "code",
   "execution_count": 14,
   "id": "ff70bf00",
   "metadata": {},
   "outputs": [
    {
     "data": {
      "text/plain": [
       "array([1.21375964, 1.4832956 , 1.1482582 , 1.42849185, 1.11179336,\n",
       "       1.2110181 , 1.45138774, 1.26105189, 1.4553495 , 1.44212323,\n",
       "       1.2539386 , 1.29501591, 1.12433424, 1.03562198, 1.41835674,\n",
       "       1.51012549, 1.29891525, 1.35487679, 1.35883855, 1.52593582,\n",
       "       1.0603888 , 1.39240438, 1.36292312, 1.4507301 , 1.15730485,\n",
       "       1.39074642, 1.4828301 , 1.37477861, 1.55588258, 1.02323857,\n",
       "       1.26532168, 1.29570821, 1.6147778 , 1.38273476, 1.54219082,\n",
       "       1.42057037, 1.38020619, 1.27480607, 1.23584733, 1.14383095,\n",
       "       1.39701686, 1.15028661, 1.23990414, 1.35478174, 1.24567442,\n",
       "       1.51736159, 1.34084234, 1.24239804, 1.41872719, 1.18727936,\n",
       "       1.36186729, 1.4252779 , 1.24766816, 1.36458108, 1.30855712,\n",
       "       1.10602309, 1.66773836, 1.33516712, 1.39003328, 1.39546086,\n",
       "       1.25768047, 1.23222826, 1.44003241, 1.26495123, 1.32845893,\n",
       "       1.39368498, 1.37047416, 1.55179802, 1.26547915, 1.37028893,\n",
       "       1.57029439, 1.33641509, 1.31878932, 1.18784194, 1.39277482,\n",
       "       1.21323172, 1.7240426 , 1.2802614 , 1.20509035, 1.30312953])"
      ]
     },
     "execution_count": 14,
     "metadata": {},
     "output_type": "execute_result"
    }
   ],
   "source": [
    "bias = 1\n",
    "w = np.random.random(X_train.shape[1])\n",
    "function = X_test@ w.T + bias* np.ones_like(y_test)"
   ]
  },
  {
   "cell_type": "markdown",
   "id": "d8fbcdce",
   "metadata": {},
   "source": [
    "## Support Vector Machine - Sklearn"
   ]
  },
  {
   "cell_type": "code",
   "execution_count": 5,
   "id": "aeb95760",
   "metadata": {},
   "outputs": [
    {
     "name": "stdout",
     "output_type": "stream",
     "text": [
      "0.875\n"
     ]
    }
   ],
   "source": [
    "from sklearn.svm import SVC\n",
    "\n",
    "# using SVM with linear kernel to classify data\n",
    "classifier = SVC(kernel = \"linear\", random_state = 42)\n",
    "classifier.fit(X_train, y_train)\n",
    "y_pred = classifier.predict(X_test)\n",
    "comparison_array = np.equal(y_pred, y_test)\n",
    "\n",
    "print(np.sum(comparison_array) * 1./len(y_pred))"
   ]
  },
  {
   "cell_type": "markdown",
   "id": "4b10ef60",
   "metadata": {},
   "source": [
    "## Support Vector Machine from scratch"
   ]
  },
  {
   "cell_type": "code",
   "execution_count": 22,
   "id": "6291194c",
   "metadata": {},
   "outputs": [],
   "source": [
    "class SVM():\n",
    "    def __init__(self, learning_rate, num_epochs, Lambda):\n",
    "        self.learning_rate = learning_rate\n",
    "        self.num_epochs = num_epochs\n",
    "        self.Lambda = Lambda\n",
    "        self.w = None\n",
    "        self.bias = None\n",
    "        \n",
    "    def fit(self, X_train, y_train):\n",
    "        np.random.seed(42)\n",
    "        \n",
    "        self.w = np.random.random(X_train.shape[1])\n",
    "        self.bias = 0\n",
    "        \n",
    "        # convert y_train set into the set of 2 classes {1, -1}\n",
    "        for index in range(len(y_train)):\n",
    "            if y_train[index] == 0:\n",
    "                y_train[index] = -1\n",
    "        \n",
    "        # using gradient descent to minimize cost function\n",
    "        for epoch in range(self.num_epochs):\n",
    "            cost = self.Lambda * self.w\n",
    "            for index, instance in enumerate(X_train):\n",
    "                cost += max(1 - y_train[index]* (self.w@ instance.T + self.bias), 0)\n",
    "                if y_train[index]* (self.w@ instance.T + self.bias) >= 1:\n",
    "                    self.w -= self.learning_rate* (2* self.Lambda* instance)\n",
    "                else:\n",
    "                    self.w -= self.learning_rate* (2* self.Lambda* instance - y_train[index]* instance)\n",
    "                    self.bias += self.learning_rate* y_train[index]\n",
    "    \n",
    "    def predict(self, X_test):\n",
    "        \n",
    "        # the hyperplane that we have\n",
    "        function = X_test@ self.w.T + self.bias* np.ones_like(y_test)\n",
    "        y_pred = np.sign(function)\n",
    "        return y_pred"
   ]
  },
  {
   "cell_type": "code",
   "execution_count": 25,
   "id": "857c142e",
   "metadata": {},
   "outputs": [
    {
     "data": {
      "text/plain": [
       "array([0, 1, 0, 1, 0, 0, 1, 0, 0, 0, 0, 1, 0, 0, 0, 0, 1, 1, 0, 1, 0, 0,\n",
       "       0, 1, 0, 0, 0, 0, 1, 0, 0, 0, 1, 0, 1, 0, 0, 0, 0, 0, 0, 0, 0, 0,\n",
       "       0, 1, 0, 0, 0, 0, 0, 1, 0, 0, 0, 0, 1, 0, 0, 0, 0, 0, 1, 0, 0, 0,\n",
       "       1, 1, 0, 0, 1, 0, 0, 0, 0, 0, 1, 1, 0, 0])"
      ]
     },
     "execution_count": 25,
     "metadata": {},
     "output_type": "execute_result"
    }
   ],
   "source": [
    "# the accuracy\n",
    "\n",
    "svm = SVM(learning_rate = 0.001, Lambda = 0.01, num_epochs = 1500)\n",
    "svm.fit(X_train, y_train)\n",
    "y_predict = svm.predict(X_test)\n",
    "\n",
    "# convert type of y_pred from float to interger\n",
    "y_predict = y_predict.astype(int)\n",
    "\n",
    "for index in range(len(y_predict)):\n",
    "    if y_predict[index] == -1:\n",
    "        y_predict[index] = 0\n",
    "y_predict"
   ]
  },
  {
   "cell_type": "code",
   "execution_count": 27,
   "id": "11cf218a",
   "metadata": {},
   "outputs": [
    {
     "name": "stdout",
     "output_type": "stream",
     "text": [
      "0.875\n"
     ]
    }
   ],
   "source": [
    "comparison = np.equal(y_predict, y_test)\n",
    "print(np.sum(comparison)* 1./len(comparison))"
   ]
  }
 ],
 "metadata": {
  "kernelspec": {
   "display_name": "Python 3 (ipykernel)",
   "language": "python",
   "name": "python3"
  },
  "language_info": {
   "codemirror_mode": {
    "name": "ipython",
    "version": 3
   },
   "file_extension": ".py",
   "mimetype": "text/x-python",
   "name": "python",
   "nbconvert_exporter": "python",
   "pygments_lexer": "ipython3",
   "version": "3.11.4"
  }
 },
 "nbformat": 4,
 "nbformat_minor": 5
}
