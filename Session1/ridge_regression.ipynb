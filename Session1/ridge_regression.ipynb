{
 "cells": [
  {
   "cell_type": "code",
   "execution_count": 1,
   "id": "89ccb22c",
   "metadata": {},
   "outputs": [],
   "source": [
    "import pandas as pd\n",
    "import numpy as np\n",
    "import seaborn as sns\n",
    "import matplotlib.pyplot as plt"
   ]
  },
  {
   "cell_type": "markdown",
   "id": "e8db0a67",
   "metadata": {},
   "source": [
    "# Data Preprocessing"
   ]
  },
  {
   "cell_type": "code",
   "execution_count": 23,
   "id": "02ad24fc",
   "metadata": {},
   "outputs": [],
   "source": [
    "with open(\"x28.txt\") as file:\n",
    "    data = []\n",
    "    content = file.readlines()[72:]\n",
    "    for line in content:\n",
    "        line = line.split()\n",
    "        row = []\n",
    "        for i in range(1, len(line)):\n",
    "            row.append(float(line[i]))\n",
    "        data.append(row)"
   ]
  },
  {
   "cell_type": "markdown",
   "id": "890aafd5",
   "metadata": {},
   "source": [
    "## Import Data"
   ]
  },
  {
   "cell_type": "code",
   "execution_count": 3,
   "id": "cd608a6c",
   "metadata": {},
   "outputs": [
    {
     "data": {
      "text/html": [
       "<div>\n",
       "<style scoped>\n",
       "    .dataframe tbody tr th:only-of-type {\n",
       "        vertical-align: middle;\n",
       "    }\n",
       "\n",
       "    .dataframe tbody tr th {\n",
       "        vertical-align: top;\n",
       "    }\n",
       "\n",
       "    .dataframe thead th {\n",
       "        text-align: right;\n",
       "    }\n",
       "</style>\n",
       "<table border=\"1\" class=\"dataframe\">\n",
       "  <thead>\n",
       "    <tr style=\"text-align: right;\">\n",
       "      <th></th>\n",
       "      <th>0</th>\n",
       "      <th>1</th>\n",
       "      <th>2</th>\n",
       "      <th>3</th>\n",
       "      <th>4</th>\n",
       "      <th>5</th>\n",
       "      <th>6</th>\n",
       "      <th>7</th>\n",
       "      <th>8</th>\n",
       "      <th>9</th>\n",
       "      <th>10</th>\n",
       "      <th>11</th>\n",
       "      <th>12</th>\n",
       "      <th>13</th>\n",
       "      <th>14</th>\n",
       "      <th>15</th>\n",
       "    </tr>\n",
       "  </thead>\n",
       "  <tbody>\n",
       "    <tr>\n",
       "      <th>0</th>\n",
       "      <td>36.0</td>\n",
       "      <td>27.0</td>\n",
       "      <td>71.0</td>\n",
       "      <td>8.1</td>\n",
       "      <td>3.34</td>\n",
       "      <td>11.4</td>\n",
       "      <td>81.5</td>\n",
       "      <td>3243.0</td>\n",
       "      <td>8.8</td>\n",
       "      <td>42.6</td>\n",
       "      <td>11.7</td>\n",
       "      <td>21.0</td>\n",
       "      <td>15.0</td>\n",
       "      <td>59.0</td>\n",
       "      <td>59.0</td>\n",
       "      <td>921.870</td>\n",
       "    </tr>\n",
       "    <tr>\n",
       "      <th>1</th>\n",
       "      <td>35.0</td>\n",
       "      <td>23.0</td>\n",
       "      <td>72.0</td>\n",
       "      <td>11.1</td>\n",
       "      <td>3.14</td>\n",
       "      <td>11.0</td>\n",
       "      <td>78.8</td>\n",
       "      <td>4281.0</td>\n",
       "      <td>3.6</td>\n",
       "      <td>50.7</td>\n",
       "      <td>14.4</td>\n",
       "      <td>8.0</td>\n",
       "      <td>10.0</td>\n",
       "      <td>39.0</td>\n",
       "      <td>57.0</td>\n",
       "      <td>997.875</td>\n",
       "    </tr>\n",
       "    <tr>\n",
       "      <th>2</th>\n",
       "      <td>44.0</td>\n",
       "      <td>29.0</td>\n",
       "      <td>74.0</td>\n",
       "      <td>10.4</td>\n",
       "      <td>3.21</td>\n",
       "      <td>9.8</td>\n",
       "      <td>81.6</td>\n",
       "      <td>4260.0</td>\n",
       "      <td>0.8</td>\n",
       "      <td>39.4</td>\n",
       "      <td>12.4</td>\n",
       "      <td>6.0</td>\n",
       "      <td>6.0</td>\n",
       "      <td>33.0</td>\n",
       "      <td>54.0</td>\n",
       "      <td>962.354</td>\n",
       "    </tr>\n",
       "    <tr>\n",
       "      <th>3</th>\n",
       "      <td>47.0</td>\n",
       "      <td>45.0</td>\n",
       "      <td>79.0</td>\n",
       "      <td>6.5</td>\n",
       "      <td>3.41</td>\n",
       "      <td>11.1</td>\n",
       "      <td>77.5</td>\n",
       "      <td>3125.0</td>\n",
       "      <td>27.1</td>\n",
       "      <td>50.2</td>\n",
       "      <td>20.6</td>\n",
       "      <td>18.0</td>\n",
       "      <td>8.0</td>\n",
       "      <td>24.0</td>\n",
       "      <td>56.0</td>\n",
       "      <td>982.291</td>\n",
       "    </tr>\n",
       "    <tr>\n",
       "      <th>4</th>\n",
       "      <td>43.0</td>\n",
       "      <td>35.0</td>\n",
       "      <td>77.0</td>\n",
       "      <td>7.6</td>\n",
       "      <td>3.44</td>\n",
       "      <td>9.6</td>\n",
       "      <td>84.6</td>\n",
       "      <td>6441.0</td>\n",
       "      <td>24.4</td>\n",
       "      <td>43.7</td>\n",
       "      <td>14.3</td>\n",
       "      <td>43.0</td>\n",
       "      <td>38.0</td>\n",
       "      <td>206.0</td>\n",
       "      <td>55.0</td>\n",
       "      <td>1071.289</td>\n",
       "    </tr>\n",
       "  </tbody>\n",
       "</table>\n",
       "</div>"
      ],
      "text/plain": [
       "     0     1     2     3     4     5     6       7     8     9     10    11  \\\n",
       "0  36.0  27.0  71.0   8.1  3.34  11.4  81.5  3243.0   8.8  42.6  11.7  21.0   \n",
       "1  35.0  23.0  72.0  11.1  3.14  11.0  78.8  4281.0   3.6  50.7  14.4   8.0   \n",
       "2  44.0  29.0  74.0  10.4  3.21   9.8  81.6  4260.0   0.8  39.4  12.4   6.0   \n",
       "3  47.0  45.0  79.0   6.5  3.41  11.1  77.5  3125.0  27.1  50.2  20.6  18.0   \n",
       "4  43.0  35.0  77.0   7.6  3.44   9.6  84.6  6441.0  24.4  43.7  14.3  43.0   \n",
       "\n",
       "     12     13    14        15  \n",
       "0  15.0   59.0  59.0   921.870  \n",
       "1  10.0   39.0  57.0   997.875  \n",
       "2   6.0   33.0  54.0   962.354  \n",
       "3   8.0   24.0  56.0   982.291  \n",
       "4  38.0  206.0  55.0  1071.289  "
      ]
     },
     "execution_count": 3,
     "metadata": {},
     "output_type": "execute_result"
    }
   ],
   "source": [
    "df = pd.DataFrame(data)\n",
    "df.head()"
   ]
  },
  {
   "cell_type": "code",
   "execution_count": 24,
   "id": "968d403b",
   "metadata": {},
   "outputs": [],
   "source": [
    "x = df.iloc[:, :-1].values\n",
    "y = df.iloc[:, -1].values.reshape(x.shape[0], 1)"
   ]
  },
  {
   "cell_type": "code",
   "execution_count": 5,
   "id": "5311cb99",
   "metadata": {},
   "outputs": [
    {
     "data": {
      "image/png": "[encoded data removed]",
      "text/plain": [
       "<Figure size 800x500 with 1 Axes>"
      ]
     },
     "metadata": {},
     "output_type": "display_data"
    }
   ],
   "source": [
    "fig, ax = plt.subplots(figsize = (8, 5))\n",
    "ax.scatter(df.iloc[:, 1].values, y);"
   ]
  },
  {
   "cell_type": "code",
   "execution_count": 6,
   "id": "a2e7dac4",
   "metadata": {},
   "outputs": [
    {
     "data": {
      "image/png": "[encoded data removed]",
      "text/plain": [
       "<Figure size 640x480 with 2 Axes>"
      ]
     },
     "metadata": {},
     "output_type": "display_data"
    }
   ],
   "source": [
    "corr = df.iloc[:, :-1].corr()\n",
    "fig, ax = plt.subplots()\n",
    "sns.heatmap(corr, cmap = \"coolwarm\", linecolor = \"white\");"
   ]
  },
  {
   "cell_type": "markdown",
   "id": "f9bd30af",
   "metadata": {},
   "source": [
    "## Normalize data"
   ]
  },
  {
   "cell_type": "code",
   "execution_count": 25,
   "id": "1a6913c4",
   "metadata": {},
   "outputs": [],
   "source": [
    "def normalize_and_add_ones(x):\n",
    "    x_max = np.max(x, axis = 0)\n",
    "    x_min = np.min(x, axis = 0)\n",
    "    x_normalized = (x - x_min)/(x_max - x_min)\n",
    "    return np.column_stack((np.ones_like(y), x_normalized))\n",
    "\n",
    "x = normalize_and_add_ones(x)"
   ]
  },
  {
   "cell_type": "markdown",
   "id": "b04a975d",
   "metadata": {},
   "source": [
    "# Build model"
   ]
  },
  {
   "cell_type": "code",
   "execution_count": 8,
   "id": "e7ec67b5",
   "metadata": {},
   "outputs": [],
   "source": [
    "class RidgeRegression():\n",
    "    def __init__(self) -> None:\n",
    "        pass\n",
    "    def fit(self, x_train, y_train, Lambda):\n",
    "        assert len(x_train.shape) == 2 and x_train.shape[0] == y_train.shape[0]\n",
    "        w = np.linalg.inv(x_train.T@x_train + Lambda * np.identity(x_train.shape[1]))@x_train.T@y_train\n",
    "        return w\n",
    "    def predict(self, w, x_new):\n",
    "        y_new = x_new@w\n",
    "        return y_new\n",
    "    def compute_RSS(self, y_new, y_predicted):\n",
    "        loss = 1/y_new.shape[0] * np.sum((y_new - y_predicted)**2)\n",
    "        return loss\n",
    "    def get_the_best_Lambda(self, x_train, y_train):\n",
    "        def cross_validation(num_folds, Lambda):\n",
    "            # get the indexes of all rows in x_train\n",
    "            row_ids = np.array(range(x_train.shape[0]))\n",
    "            # valid end is the last index to get a valid split\n",
    "            valid_end = len(row_ids) - len(row_ids) % num_folds\n",
    "            valid_ids_set = np.split(row_ids[:valid_end], num_folds)\n",
    "            # append all the last rows to valid_ids_set\n",
    "            valid_ids_set.append(row_ids[valid_end:])\n",
    "            # i-th training set may contain all index k such that k is not in i-th valid_ids_set\n",
    "            train_ids_set = []\n",
    "            for i in range(num_folds):\n",
    "                ith_set = []\n",
    "                for k in row_ids:\n",
    "                    if k not in valid_ids_set[i]:\n",
    "                        ith_set.append(k)\n",
    "                train_ids_set.append(ith_set)\n",
    "            avg_RSS = 0\n",
    "            for i in range(num_folds):\n",
    "                w = self.fit(x_train[valid_ids_set[i]], y_train[valid_ids_set[i]], Lambda)\n",
    "                y_predicted = self.predict(w, x_train[valid_ids_set[i]])\n",
    "                avg_RSS += self.compute_RSS(y_train[valid_ids_set[i]], y_predicted)\n",
    "            avg_RSS = avg_RSS/num_folds\n",
    "            return avg_RSS\n",
    "        def range_scan(best_Lambda, minimum_RSS, Lambda_values):\n",
    "            for Lambda in Lambda_values:\n",
    "                RSS = cross_validation(5, Lambda)\n",
    "                if RSS < minimum_RSS:\n",
    "                    best_Lambda = Lambda\n",
    "                    minimum_RSS = RSS\n",
    "            return best_Lambda, minimum_RSS\n",
    "        best_Lambda, minimum_RSS = range_scan(0, np.inf, np.array(range(50)))\n",
    "        \n",
    "        # after finding the temperature best_lambda, we continuously scan the small range around best_lambda\n",
    "        # range = (max(0, best_lambda - 1), best_lambda + 1) with step = 0.001\n",
    "        start, end, step = max(0, best_Lambda - 1), best_Lambda + 1, 0.001\n",
    "        Lambda_values = []\n",
    "        while start <= end:\n",
    "            Lambda_values.append(start)\n",
    "            start += step\n",
    "        best_Lambda, minimum_RSS = range_scan(best_Lambda, minimum_RSS, Lambda_values)\n",
    "        return best_Lambda\n",
    "    def fit_minibatch_GD(self, x_train, y_train, Lambda, learning_rate, num_epochs = 100, batch_size = 4):\n",
    "        m, n = x_train.shape[0], x_train.shape[1]\n",
    "        w = np.random.randn(n).reshape(n, 1)\n",
    "        arr = np.array(range(m))\n",
    "        arr = np.random.shuffle(arr)\n",
    "        \n",
    "        epsilon = 1e-8\n",
    "        num_batch =  m // batch_size\n",
    "        loss = np.inf\n",
    "        loss_history = []\n",
    "        \n",
    "        for epoch in range(num_epochs):\n",
    "            for i in range(num_batch + 1):\n",
    "                index = (batch_size * i)\n",
    "                x_batch = x_train[index: index + batch_size]\n",
    "                y_batch = y_train[index: index + batch_size]\n",
    "                grad = (x_batch.T)@(x_batch@w - y_batch) + Lambda * w\n",
    "                w -= learning_rate * grad\n",
    "            new_loss = self.compute_RSS(y_train, x_train@w)\n",
    "            loss_history.append(new_loss)\n",
    "            if abs(new_loss - loss) < epsilon:\n",
    "                break\n",
    "            loss = new_loss\n",
    "        return w, loss_history\n",
    "    def fit_SGD(self, x_train, y_train, Lambda, learning_rate, num_epochs):\n",
    "        return fit_minibatch_GD(x_train, y_train, Lambda, learning_rate, num_epochs = 100, batch_size = 1)"
   ]
  },
  {
   "cell_type": "code",
   "execution_count": 16,
   "id": "6b460753",
   "metadata": {},
   "outputs": [],
   "source": [
    "def analysis_result(w, x_train, y_train, model = RidgeRegression()):\n",
    "    best_Lambda = model.get_the_best_Lambda(x_train, y_train)\n",
    "    print(\"=========== Best found LAMBDA ===========\")\n",
    "    print(\"LAMBDA = \", best_Lambda)\n",
    "    print(\"============= Weights found =============\")\n",
    "    print(\"W = \", w)\n",
    "    print(\"============ On training set ============\")\n",
    "    y_pred = model.predict(w, x_train)\n",
    "    RSS = model.compute_RSS(y_train, y_pred)\n",
    "    print(\"RSS = \", RSS)\n",
    "    print(\"============ On test set ================\")\n",
    "    y_pred = model.predict(w, x_test)\n",
    "    RSS = model.compute_RSS(y_test, y_pred)\n",
    "    print(\"RSS =\", RSS)\n",
    "    print(\"=========== Predicted label =============\")\n",
    "    print(\"Predicted Y =\", y_pred)"
   ]
  },
  {
   "cell_type": "code",
   "execution_count": 20,
   "id": "a1c40822",
   "metadata": {},
   "outputs": [
    {
     "name": "stdout",
     "output_type": "stream",
     "text": [
      "=========== Best found LAMBDA ===========\n",
      "LAMBDA =  0.001\n",
      "============= Weights found =============\n",
      "W =  [[1033.60165053]\n",
      " [  98.10277364]\n",
      " [-180.99935526]\n",
      " [ -50.46072063]\n",
      " [-115.67203136]\n",
      " [ -87.90105798]\n",
      " [ -80.9610377 ]\n",
      " [ -22.18991587]\n",
      " [ 107.22328658]\n",
      " [ 111.87406757]\n",
      " [  27.32033722]\n",
      " [  33.35049819]\n",
      " [-518.82384133]\n",
      " [ 536.37558041]\n",
      " [  -3.51425522]\n",
      " [  23.33503946]]\n",
      "============ On training set ============\n",
      "RSS =  675.5551063261288\n",
      "============ On test set ================\n",
      "RSS = 1550.7460312815356\n",
      "=========== Predicted label =============\n",
      "Predicted Y = [[876.29184193]\n",
      " [920.3726401 ]\n",
      " [932.73209986]\n",
      " [892.8995198 ]\n",
      " [991.55669706]\n",
      " [895.7924415 ]\n",
      " [932.14386414]\n",
      " [889.55163965]\n",
      " [911.33139421]\n",
      " [923.14444653]]\n"
     ]
    }
   ],
   "source": [
    "x_train, y_train = x[:50], y[:50]\n",
    "x_test, y_test = x[50:], y[50:]\n",
    "ridge_regression = RidgeRegression()\n",
    "best_Lambda = ridge_regression.get_the_best_Lambda(x_train, y_train)\n",
    "w = ridge_regression.fit(x_train, y_train, Lambda = best_Lambda)\n",
    "analysis_result(w, x_train, y_train)"
   ]
  },
  {
   "cell_type": "code",
   "execution_count": 21,
   "id": "ba009769",
   "metadata": {},
   "outputs": [
    {
     "name": "stdout",
     "output_type": "stream",
     "text": [
      "=========== Best found LAMBDA ===========\n",
      "LAMBDA =  0.001\n",
      "============= Weights found =============\n",
      "W =  [[ 942.3921462 ]\n",
      " [ 116.21000866]\n",
      " [-159.0339278 ]\n",
      " [ -39.80753979]\n",
      " [ -66.99180274]\n",
      " [ -49.0955667 ]\n",
      " [ -56.61024492]\n",
      " [ -24.10821155]\n",
      " [  98.4289939 ]\n",
      " [ 118.25419631]\n",
      " [  32.538647  ]\n",
      " [  36.78411955]\n",
      " [ -65.07608222]\n",
      " [  89.32073298]\n",
      " [  52.51167979]\n",
      " [  22.24835517]]\n",
      "============ On training set ============\n",
      "RSS =  770.1226208242141\n",
      "============ On test set ================\n",
      "RSS = 1442.3192560947646\n",
      "=========== Predicted label =============\n",
      "Predicted Y = [[ 884.02733766]\n",
      " [ 927.81355875]\n",
      " [ 923.02799603]\n",
      " [ 902.86816556]\n",
      " [1007.25411719]\n",
      " [ 884.31883687]\n",
      " [ 934.43043948]\n",
      " [ 905.2952997 ]\n",
      " [ 909.37815761]\n",
      " [ 924.90780654]]\n"
     ]
    }
   ],
   "source": [
    "m = x_train.shape[0]\n",
    "W, loss_history = ridge_regression.fit_minibatch_GD(x_train, y_train,\n",
    "                                        Lambda = best_Lambda,\n",
    "                                        num_epochs=1000,\n",
    "                                        learning_rate = 0.03,\n",
    "                                        batch_size=8)\n",
    "analysis_result(W, x_train, y_train)"
   ]
  },
  {
   "cell_type": "code",
   "execution_count": 22,
   "id": "e67eb945",
   "metadata": {},
   "outputs": [
    {
     "data": {
      "text/plain": [
       "[<matplotlib.lines.Line2D at 0x22cc603d850>]"
      ]
     },
     "execution_count": 22,
     "metadata": {},
     "output_type": "execute_result"
    },
    {
     "data": {
      "image/png": "[encoded data removed]",
      "text/plain": [
       "<Figure size 640x480 with 1 Axes>"
      ]
     },
     "metadata": {},
     "output_type": "display_data"
    }
   ],
   "source": [
    "plt.plot(loss_history)"
   ]
  }
 ],
 "metadata": {
  "kernelspec": {
   "display_name": "Python 3 (ipykernel)",
   "language": "python",
   "name": "python3"
  },
  "language_info": {
   "codemirror_mode": {
    "name": "ipython",
    "version": 3
   },
   "file_extension": ".py",
   "mimetype": "text/x-python",
   "name": "python",
   "nbconvert_exporter": "python",
   "pygments_lexer": "ipython3",
   "version": "3.11.4"
  }
 },
 "nbformat": 4,
 "nbformat_minor": 5
}
